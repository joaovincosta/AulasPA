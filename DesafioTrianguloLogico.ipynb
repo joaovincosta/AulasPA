{
  "nbformat": 4,
  "nbformat_minor": 0,
  "metadata": {
    "colab": {
      "provenance": [],
      "authorship_tag": "ABX9TyN0AfrbJbS6Q7DVuJo6qT7b",
      "include_colab_link": true
    },
    "kernelspec": {
      "name": "python3",
      "display_name": "Python 3"
    },
    "language_info": {
      "name": "python"
    }
  },
  "cells": [
    {
      "cell_type": "markdown",
      "metadata": {
        "id": "view-in-github",
        "colab_type": "text"
      },
      "source": [
        "<a href=\"https://colab.research.google.com/github/joaovincosta/AulasPA/blob/main/DesafioTrianguloLogico.ipynb\" target=\"_parent\"><img src=\"https://colab.research.google.com/assets/colab-badge.svg\" alt=\"Open In Colab\"/></a>"
      ]
    },
    {
      "cell_type": "markdown",
      "source": [
        "# Verificando se é um **triângulo**"
      ],
      "metadata": {
        "id": "Ux6N3OkqVDvN"
      }
    },
    {
      "cell_type": "code",
      "execution_count": 27,
      "metadata": {
        "colab": {
          "base_uri": "https://localhost:8080/"
        },
        "id": "fFds05nzSna3",
        "outputId": "de01e447-bfc3-48ef-adf6-d1f7ad92c674"
      },
      "outputs": [
        {
          "output_type": "stream",
          "name": "stdout",
          "text": [
            "Digite o primeiro valor: 3\n",
            "Digite o segundo valor: 3\n",
            "Digite o terceiro valor: 3\n",
            "\n",
            "É um triângulo?  True\n"
          ]
        }
      ],
      "source": [
        "a = float(input(\"Digite o primeiro valor: \"))\n",
        "b = float(input(\"Digite o segundo valor: \"))\n",
        "c = float(input(\"Digite o terceiro valor: \"))\n",
        "print()\n",
        "triangulo = (a+b>c) and (b+c>a) and (a+c>b)\n",
        "print(\"É um triângulo? \", triangulo)"
      ]
    },
    {
      "cell_type": "markdown",
      "source": [
        "# Verificando se é **equilátero**"
      ],
      "metadata": {
        "id": "0-m3aOvoVTxW"
      }
    },
    {
      "cell_type": "code",
      "source": [
        "equilatero = (a==b) and (b==c) and triangulo\n",
        "print(\"É equilátero? \", equilatero)"
      ],
      "metadata": {
        "colab": {
          "base_uri": "https://localhost:8080/"
        },
        "id": "REMTRNfWVdNW",
        "outputId": "d16e19fb-08d4-48af-9534-2a536a8c46c1"
      },
      "execution_count": 28,
      "outputs": [
        {
          "output_type": "stream",
          "name": "stdout",
          "text": [
            "É equilátero?  True\n"
          ]
        }
      ]
    },
    {
      "cell_type": "markdown",
      "source": [
        "# Verificando se é **escaleno**"
      ],
      "metadata": {
        "id": "XeAoNV_NVde7"
      }
    },
    {
      "cell_type": "code",
      "source": [
        "escaleno = (a!=b) and (a!=c) and (b!=c) and triangulo\n",
        "print(\"É escaleno? \", escaleno)"
      ],
      "metadata": {
        "colab": {
          "base_uri": "https://localhost:8080/"
        },
        "id": "dgg6PFZYVjvc",
        "outputId": "07b521c7-1212-45c0-e39b-e7d594b02117"
      },
      "execution_count": 29,
      "outputs": [
        {
          "output_type": "stream",
          "name": "stdout",
          "text": [
            "É escaleno?  False\n"
          ]
        }
      ]
    },
    {
      "cell_type": "markdown",
      "source": [
        "# Verificando se é **isósceles**"
      ],
      "metadata": {
        "id": "NkUaiiZyVkUK"
      }
    },
    {
      "cell_type": "code",
      "source": [
        "isosceles = (a==b)  (b==c)  (a==c) and triangulo\n",
        "print(\"É isósceles? \", isosceles)"
      ],
      "metadata": {
        "colab": {
          "base_uri": "https://localhost:8080/"
        },
        "id": "2qh2I2IdVr7q",
        "outputId": "0419cc9a-eace-4134-ad50-a2493e3f0389"
      },
      "execution_count": 31,
      "outputs": [
        {
          "output_type": "stream",
          "name": "stdout",
          "text": [
            "É isósceles?  True\n"
          ]
        }
      ]
    }
  ]
}