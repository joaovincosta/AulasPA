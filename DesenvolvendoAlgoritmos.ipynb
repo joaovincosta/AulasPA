{
  "nbformat": 4,
  "nbformat_minor": 0,
  "metadata": {
    "colab": {
      "provenance": [],
      "authorship_tag": "ABX9TyMKTivLgZSggU1rhCiaaEC2",
      "include_colab_link": true
    },
    "kernelspec": {
      "name": "python3",
      "display_name": "Python 3"
    },
    "language_info": {
      "name": "python"
    }
  },
  "cells": [
    {
      "cell_type": "markdown",
      "metadata": {
        "id": "view-in-github",
        "colab_type": "text"
      },
      "source": [
        "<a href=\"https://colab.research.google.com/github/joaovincosta/AulasPA/blob/main/DesenvolvendoAlgoritmos.ipynb\" target=\"_parent\"><img src=\"https://colab.research.google.com/assets/colab-badge.svg\" alt=\"Open In Colab\"/></a>"
      ]
    },
    {
      "cell_type": "markdown",
      "source": [
        "# **INTRODUÇÃO À LÓGICA DE PROGRAMAÇÃO**"
      ],
      "metadata": {
        "id": "krkm-R2ya0X2"
      }
    },
    {
      "cell_type": "markdown",
      "source": [
        "## Exercício 1"
      ],
      "metadata": {
        "id": "6I6_N6xvchvm"
      }
    },
    {
      "cell_type": "code",
      "source": [
        "valor = float(input(\"Digite o valor unitário das peças vendidas: \"))\n",
        "qtde = float(input(\"Digite a quantidade de peças vendidas: \"))\n",
        "vt = valor * qtde\n",
        "print(\"O valor total de peças vendidas foi de: \",vt,\"reais\")"
      ],
      "metadata": {
        "colab": {
          "base_uri": "https://localhost:8080/"
        },
        "id": "LzRmFVCwbVB0",
        "outputId": "73ab306e-f92a-4f92-fee8-dfd17576fcaa"
      },
      "execution_count": 11,
      "outputs": [
        {
          "output_type": "stream",
          "name": "stdout",
          "text": [
            "Digite o valor unitário das peças vendidas: 2\n",
            "Digite a quantidade de peças vendidas: 4\n",
            "O valor total de peças vendidas foi de:  8.0 reais\n"
          ]
        }
      ]
    },
    {
      "cell_type": "markdown",
      "source": [
        "![image.png](data:image/png;base64,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)"
      ],
      "metadata": {
        "id": "zykw5p92gs5S"
      }
    },
    {
      "cell_type": "markdown",
      "source": [
        "## Exercício 2"
      ],
      "metadata": {
        "id": "S6qmy5kEclVK"
      }
    },
    {
      "cell_type": "code",
      "source": [
        "qtdemin = float(input(\"Digite a quantidade mínima da peça: \"))\n",
        "qtdemax = float(input(\"Digite a quantidade máxima da peça: \"))\n",
        "estmed = (qtdemin + qtdemax) / 2\n",
        "print(\"O estoque médio da peça é: \",estmed)"
      ],
      "metadata": {
        "colab": {
          "base_uri": "https://localhost:8080/"
        },
        "id": "0oifjq2gco-i",
        "outputId": "961ad541-5b97-4014-cf4f-800f2b6d66b7"
      },
      "execution_count": null,
      "outputs": [
        {
          "output_type": "stream",
          "name": "stdout",
          "text": [
            "Digite a quantidade mínima da peça: 10\n",
            "Digite a quantidade máxima da peça: 50\n",
            "O estoque médio da peça é:  30.0\n"
          ]
        }
      ]
    },
    {
      "cell_type": "markdown",
      "source": [
        "![image.png](data:image/png;base64,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)"
      ],
      "metadata": {
        "id": "5e8IUOyghz2d"
      }
    },
    {
      "cell_type": "markdown",
      "source": [
        "# **DESENVOLVENDO ALGORITMOS**"
      ],
      "metadata": {
        "id": "wbUFlsIwagnG"
      }
    },
    {
      "cell_type": "markdown",
      "source": [
        "## Exercício 3"
      ],
      "metadata": {
        "id": "j6OCbQhuWVcM"
      }
    },
    {
      "cell_type": "code",
      "execution_count": 12,
      "metadata": {
        "colab": {
          "base_uri": "https://localhost:8080/"
        },
        "id": "NbQwBwAaWHd_",
        "outputId": "9fe3cc67-b897-45ba-80d9-739ec58b2250"
      },
      "outputs": [
        {
          "output_type": "stream",
          "name": "stdout",
          "text": [
            "Digite o valor da cotação do dólar atualmente: 4\n",
            "Digite o valor em reais que deseja converter para dólares: 500\n",
            "O valor em dólares é de:  125.0 dólares\n"
          ]
        }
      ],
      "source": [
        "cotacaodolar = float(input(\"Digite o valor da cotação do dólar atualmente: \"))\n",
        "valoremreais = float(input(\"Digite o valor em reais que deseja converter para dólares: \"))\n",
        "valoremdolar = valoremreais / cotacaodolar\n",
        "print(\"O valor em dólares é de: \",valoremdolar,\"dólares\")"
      ]
    },
    {
      "cell_type": "markdown",
      "source": [
        "## Exercício 4"
      ],
      "metadata": {
        "id": "2kxxsVIlYpp7"
      }
    },
    {
      "cell_type": "code",
      "source": [
        "n1 = float(input(\"Digite o primeiro número: \"))\n",
        "n2 = float(input(\"Digite o segundo número: \"))\n",
        "n3 = float(input(\"Digite o terceiro número: \"))\n",
        "n4 = float(input(\"Digite o quarto número: \"))\n",
        "somanumaoquadrado = (n1*n1) + (n2*n2) + (n3*n3) + (n4*n4)\n",
        "print(\"A soma do quadrado desses quatro números é de: \",somanumaoquadrado)"
      ],
      "metadata": {
        "colab": {
          "base_uri": "https://localhost:8080/"
        },
        "id": "Ies-zLzmYxdu",
        "outputId": "744bc69d-8f52-4de4-8eca-7b3d5e4f05f7"
      },
      "execution_count": null,
      "outputs": [
        {
          "output_type": "stream",
          "name": "stdout",
          "text": [
            "Digite o primeiro número: 2\n",
            "Digite o segundo número: 4\n",
            "Digite o terceiro número: 5\n",
            "Digite o quarto número: 6\n",
            "A soma do quadrado desses quatro números é de:  81.0\n"
          ]
        }
      ]
    },
    {
      "cell_type": "markdown",
      "source": [
        "## Exercício 5"
      ],
      "metadata": {
        "id": "O1bUEc8GamIF"
      }
    },
    {
      "cell_type": "code",
      "source": [
        "valorproduto = float(input(\"Digite o valor unitário do produto vendido: \"))\n",
        "qtdevendida = float(input(\"Digite a quantidade de produtos vendidos: \"))\n",
        "comicao = (valorproduto*qtdevendida) * 1.05 - (valorproduto*qtdevendida)\n",
        "print(\"Sua comição é de: \",comicao,\"reais\")\n",
        "## A comição é de 5% do valor total vendido"
      ],
      "metadata": {
        "colab": {
          "base_uri": "https://localhost:8080/"
        },
        "id": "cvxJN9XlarE6",
        "outputId": "63e5d587-f4de-4b89-fa9a-8985f445d05f"
      },
      "execution_count": 13,
      "outputs": [
        {
          "output_type": "stream",
          "name": "stdout",
          "text": [
            "Digite o valor unitário do produto vendido: 20\n",
            "Digite a quantidade de produtos vendidos: 50\n",
            "Sua comição é de:  50.0 reais\n"
          ]
        }
      ]
    },
    {
      "cell_type": "markdown",
      "source": [
        "## Exercício 6"
      ],
      "metadata": {
        "id": "JQ68pv7GdlAN"
      }
    },
    {
      "cell_type": "code",
      "source": [
        "custoproducao = float(input(\"Digite o custo de produção do carro: \"))\n",
        "custoconsumidor = (custoproducao * 1.45) * 1.28\n",
        "print(\"O custo ao consumidor do carro será de: \",round(custoconsumidor,2),\"reais\")\n",
        "## Fórmula: custo de produção + 45%, e ao resultado soma-se mais 28%"
      ],
      "metadata": {
        "id": "jrap-plFduRa",
        "colab": {
          "base_uri": "https://localhost:8080/"
        },
        "outputId": "472bf19b-c47c-4634-a9e5-4704b2d0a948"
      },
      "execution_count": 16,
      "outputs": [
        {
          "output_type": "stream",
          "name": "stdout",
          "text": [
            "Digite o custo de produção do carro: 35000\n",
            "O custo ao consumidor do carro será de:  64960.0 reais\n"
          ]
        }
      ]
    },
    {
      "cell_type": "markdown",
      "source": [
        "# **DESAFIO**"
      ],
      "metadata": {
        "id": "sNjszRL6aVC_"
      }
    },
    {
      "cell_type": "markdown",
      "source": [
        "## Exercício 7"
      ],
      "metadata": {
        "id": "Qt25ItD1WOh1"
      }
    },
    {
      "cell_type": "code",
      "source": [
        "horas = float(input(\"Digite a quantidade de horas: \"))\n",
        "minutos = float(input(\"Digite a quantidade de minutos: \"))\n",
        "mps = minutos / 60 + horas\n",
        "mpslimitado = round(mps, 2)\n",
        "print(\"O resultado é: \",mpslimitado)"
      ],
      "metadata": {
        "colab": {
          "base_uri": "https://localhost:8080/"
        },
        "id": "m5TB2yO9WbLf",
        "outputId": "f1baf1d0-62ff-427e-afea-f1450f29ab8d"
      },
      "execution_count": null,
      "outputs": [
        {
          "output_type": "stream",
          "name": "stdout",
          "text": [
            "Digite a quantidade de horas: 1\n",
            "Digite a quantidade de minutos: 32\n",
            "O resultado é:  1.53\n"
          ]
        }
      ]
    },
    {
      "cell_type": "markdown",
      "source": [
        "## Exercício 8"
      ],
      "metadata": {
        "id": "c8s1WbbOZ_j8"
      }
    },
    {
      "cell_type": "code",
      "source": [
        "horas = float(input(\"Digite a quantidade de horas trabalhadas: \"))\n",
        "minutos = float(input(\"Digite a quantidade de minutos trabalhados: \"))\n",
        "reaisahora = float(input(\"Digite o quanto você recebe por hora trabalhada: \"))\n",
        "mps = round(minutos / 60 + horas,2)\n",
        "total = (mps*reaisahora) * 1.7\n",
        "print(\"Seu salário será de: \",round(total,2),\"reais\")\n",
        "## A função \"round\" arredonda os valores das casas decimais"
      ],
      "metadata": {
        "colab": {
          "base_uri": "https://localhost:8080/"
        },
        "id": "9QkSBcssaC5N",
        "outputId": "840bc315-39b4-420d-9d51-25bebe743dee"
      },
      "execution_count": 17,
      "outputs": [
        {
          "output_type": "stream",
          "name": "stdout",
          "text": [
            "Digite a quantidade de horas trabalhadas: 15\n",
            "Digite a quantidade de minutos trabalhados: 45\n",
            "Digite o quanto você recebe por hora trabalhada: 25\n",
            "Seu salário será de:  669.38 reais\n"
          ]
        }
      ]
    },
    {
      "cell_type": "markdown",
      "source": [
        "## Exercício 9"
      ],
      "metadata": {
        "id": "ufYpPtqPhAdk"
      }
    },
    {
      "cell_type": "code",
      "source": [
        "km = float(input(\"Digite a quantidade de quilômetros a serem percorridos: \"))\n",
        "consumogas = float(input(\"Digite a quantidade de km que seu carro percorre por litro de gasolina: \"))\n",
        "precogas = float(input(\"Digite o preço, em média, da gasolina: \"))\n",
        "gastoida = (km/consumogas) * precogas\n",
        "gastototal = gastoida * 2\n",
        "print(\"O valor gasto somente na ida será de: \",gastoida,\"reais\")\n",
        "print(\"O valor gasto na ida e na volta será de: \",gastototal,\"reais\")"
      ],
      "metadata": {
        "colab": {
          "base_uri": "https://localhost:8080/"
        },
        "id": "wGtLsKSWhDjR",
        "outputId": "d712b5de-a33a-40cf-8475-0ec22161d371"
      },
      "execution_count": 19,
      "outputs": [
        {
          "output_type": "stream",
          "name": "stdout",
          "text": [
            "Digite a quantidade de quilômetros a serem percorridos: 450\n",
            "Digite a quantidade de km que seu carro percorre por litro de gasolina: 10\n",
            "Digite o preço, em média, da gasolina: 4.5\n",
            "O valor gasto somente na ida será de:  202.5 reais\n",
            "O valor gasto na ida e na volta será de:  405.0 reais\n"
          ]
        }
      ]
    },
    {
      "cell_type": "markdown",
      "source": [
        "## Exercício 10"
      ],
      "metadata": {
        "id": "gRjclISHifMm"
      }
    },
    {
      "cell_type": "code",
      "source": [
        "km = float(input(\"Digite a quantidade de km percorridos: \"))\n",
        "qtdehoras = float(input(\"Digite a quantidade de horas gastas no percurso: \"))\n",
        "qtdeminutos = float(input(\"Digite a quantidade de minutos gastos no percurso: \"))\n",
        "tempototal = qtdehoras + (qtdeminutos/60)\n",
        "vm = km/tempototal\n",
        "print(\"A velocidade média do percurso foi de: \",round(vm, 2),\"Km/h\")\n",
        "## A velocidade máxima permitida dessa estrada é de 110 km/h"
      ],
      "metadata": {
        "id": "-TcTHRLHiio2",
        "colab": {
          "base_uri": "https://localhost:8080/"
        },
        "outputId": "6ed2a885-5478-4dc7-fae3-25b5c10bde15"
      },
      "execution_count": 8,
      "outputs": [
        {
          "output_type": "stream",
          "name": "stdout",
          "text": [
            "Digite a quantidade de km percorridos: 150\n",
            "Digite a quantidade de horas gastas no percurso: 1\n",
            "Digite a quantidade de minutos gastos no percurso: 13\n",
            "A velocidade média do percurso foi de:  123.29 Km/h\n"
          ]
        }
      ]
    }
  ]
}