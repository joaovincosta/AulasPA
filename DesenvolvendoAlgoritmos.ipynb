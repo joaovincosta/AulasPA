{
  "nbformat": 4,
  "nbformat_minor": 0,
  "metadata": {
    "colab": {
      "provenance": [],
      "authorship_tag": "ABX9TyNoCf2BbqxeTnTV/Bae9dG+",
      "include_colab_link": true
    },
    "kernelspec": {
      "name": "python3",
      "display_name": "Python 3"
    },
    "language_info": {
      "name": "python"
    }
  },
  "cells": [
    {
      "cell_type": "markdown",
      "metadata": {
        "id": "view-in-github",
        "colab_type": "text"
      },
      "source": [
        "<a href=\"https://colab.research.google.com/github/joaovincosta/AulasPA/blob/main/DesenvolvendoAlgoritmos.ipynb\" target=\"_parent\"><img src=\"https://colab.research.google.com/assets/colab-badge.svg\" alt=\"Open In Colab\"/></a>"
      ]
    },
    {
      "cell_type": "markdown",
      "source": [
        "# **INTRODUÇÃO À LÓGICA DE PROGRAMAÇÃO**"
      ],
      "metadata": {
        "id": "krkm-R2ya0X2"
      }
    },
    {
      "cell_type": "markdown",
      "source": [
        "## Exercício 1"
      ],
      "metadata": {
        "id": "6I6_N6xvchvm"
      }
    },
    {
      "cell_type": "code",
      "source": [
        "valor = float(input(\"Digite o valor unitário das peças vendidas: \"))\n",
        "qtde = float(input(\"Digite a quantidade de peças vendidas: \"))\n",
        "vt = valor * qtde\n",
        "print(\"O valor total de peças vendidas foi de: \",vt)"
      ],
      "metadata": {
        "colab": {
          "base_uri": "https://localhost:8080/"
        },
        "id": "LzRmFVCwbVB0",
        "outputId": "73b66aeb-2cfc-4517-c268-e3174ff12130"
      },
      "execution_count": null,
      "outputs": [
        {
          "output_type": "stream",
          "name": "stdout",
          "text": [
            "Digite o valor unitário das peças vendidas: 2\n",
            "Digite a quantidade de peças vendidas: 4\n",
            "O valor total de peças vendidas foi de:  8.0\n"
          ]
        }
      ]
    },
    {
      "cell_type": "markdown",
      "source": [
        "## Exercício 2"
      ],
      "metadata": {
        "id": "S6qmy5kEclVK"
      }
    },
    {
      "cell_type": "code",
      "source": [
        "qtdemin = float(input(\"Digite a quantidade mínima da peça: \"))\n",
        "qtdemax = float(input(\"Digite a quantidade máxima da peça: \"))\n",
        "estmed = (qtdemin + qtdemax) / 2\n",
        "print(\"O estoque médio da peça é: \",estmed)"
      ],
      "metadata": {
        "colab": {
          "base_uri": "https://localhost:8080/"
        },
        "id": "0oifjq2gco-i",
        "outputId": "961ad541-5b97-4014-cf4f-800f2b6d66b7"
      },
      "execution_count": null,
      "outputs": [
        {
          "output_type": "stream",
          "name": "stdout",
          "text": [
            "Digite a quantidade mínima da peça: 10\n",
            "Digite a quantidade máxima da peça: 50\n",
            "O estoque médio da peça é:  30.0\n"
          ]
        }
      ]
    },
    {
      "cell_type": "markdown",
      "source": [
        "# **DESENVOLVENDO ALGORITMOS**"
      ],
      "metadata": {
        "id": "wbUFlsIwagnG"
      }
    },
    {
      "cell_type": "markdown",
      "source": [
        "## Exercício 3"
      ],
      "metadata": {
        "id": "j6OCbQhuWVcM"
      }
    },
    {
      "cell_type": "code",
      "execution_count": null,
      "metadata": {
        "colab": {
          "base_uri": "https://localhost:8080/"
        },
        "id": "NbQwBwAaWHd_",
        "outputId": "fa5a78fc-5ce9-420e-e130-bd545946c2f8"
      },
      "outputs": [
        {
          "output_type": "stream",
          "name": "stdout",
          "text": [
            "Digite o valor da cotação do dólar atualmente: 4\n",
            "Digite o valor em reais que deseja converter para dólares: 500\n",
            "O valor em dólares é de:$ 125.0\n"
          ]
        }
      ],
      "source": [
        "cotacaodolar = float(input(\"Digite o valor da cotação do dólar atualmente: \"))\n",
        "valoremreais = float(input(\"Digite o valor em reais que deseja converter para dólares: \"))\n",
        "valoremdolar = valoremreais / cotacaodolar\n",
        "print(\"O valor em dólares é de:$\",valoremdolar)"
      ]
    },
    {
      "cell_type": "markdown",
      "source": [
        "## Exercício 4"
      ],
      "metadata": {
        "id": "2kxxsVIlYpp7"
      }
    },
    {
      "cell_type": "code",
      "source": [
        "n1 = float(input(\"Digite o primeiro número: \"))\n",
        "n2 = float(input(\"Digite o segundo número: \"))\n",
        "n3 = float(input(\"Digite o terceiro número: \"))\n",
        "n4 = float(input(\"Digite o quarto número: \"))\n",
        "somanumaoquadrado = (n1*n1) + (n2*n2) + (n3*n3) + (n4*n4)\n",
        "print(\"A soma do quadrado desses quatro números é de: \",somanumaoquadrado)"
      ],
      "metadata": {
        "colab": {
          "base_uri": "https://localhost:8080/"
        },
        "id": "Ies-zLzmYxdu",
        "outputId": "744bc69d-8f52-4de4-8eca-7b3d5e4f05f7"
      },
      "execution_count": null,
      "outputs": [
        {
          "output_type": "stream",
          "name": "stdout",
          "text": [
            "Digite o primeiro número: 2\n",
            "Digite o segundo número: 4\n",
            "Digite o terceiro número: 5\n",
            "Digite o quarto número: 6\n",
            "A soma do quadrado desses quatro números é de:  81.0\n"
          ]
        }
      ]
    },
    {
      "cell_type": "markdown",
      "source": [
        "## Exercício 5"
      ],
      "metadata": {
        "id": "O1bUEc8GamIF"
      }
    },
    {
      "cell_type": "code",
      "source": [
        "valorproduto = float(input(\"Digite o valor unitário do produto vendido: \"))\n",
        "qtdevendida = float(input(\"Digite a quantidade de produtos vendidos: \"))\n",
        "comicao = (valorproduto*qtdevendida) * 1.05 - (valorproduto*qtdevendida)\n",
        "print(\"Sua comição em reais é de: \",comicao)\n",
        "## A comição é de 5% do valor total vendido"
      ],
      "metadata": {
        "colab": {
          "base_uri": "https://localhost:8080/"
        },
        "id": "cvxJN9XlarE6",
        "outputId": "98aaa7cf-7840-41cd-c543-372e1e74c67b"
      },
      "execution_count": null,
      "outputs": [
        {
          "output_type": "stream",
          "name": "stdout",
          "text": [
            "Digite o valor unitário do produto vendido: 20\n",
            "Digite a quantidade de produtos vendidos: 50\n",
            "Sua comição em reais é de:  50.0\n"
          ]
        }
      ]
    },
    {
      "cell_type": "markdown",
      "source": [
        "## Exercício 6"
      ],
      "metadata": {
        "id": "JQ68pv7GdlAN"
      }
    },
    {
      "cell_type": "code",
      "source": [
        "custoproducao = float(input(\"Digite o custo de produção do carro: \"))\n",
        "custoconsumidor = (custoproducao * 1.45) * 1.28\n",
        "print(\"O custo ao consumidor do carro será de: \",custoconsumidor,\"reais\")\n",
        "## Fórmula: custo de produção + 45%, e ao resultado soma-se mais 28%"
      ],
      "metadata": {
        "id": "jrap-plFduRa",
        "colab": {
          "base_uri": "https://localhost:8080/"
        },
        "outputId": "5a867362-ef68-4eb1-fc25-313f9334da2e"
      },
      "execution_count": null,
      "outputs": [
        {
          "output_type": "stream",
          "name": "stdout",
          "text": [
            "Digite o custo de produção do carro: 35\n",
            "O custo ao consumidor do carro será de:  64.96000000000001\n"
          ]
        }
      ]
    },
    {
      "cell_type": "markdown",
      "source": [
        "# **DESAFIO**"
      ],
      "metadata": {
        "id": "sNjszRL6aVC_"
      }
    },
    {
      "cell_type": "markdown",
      "source": [
        "## Exercício 7"
      ],
      "metadata": {
        "id": "Qt25ItD1WOh1"
      }
    },
    {
      "cell_type": "code",
      "source": [
        "horas = float(input(\"Digite a quantidade de horas: \"))\n",
        "minutos = float(input(\"Digite a quantidade de minutos: \"))\n",
        "mps = minutos / 60 + horas\n",
        "mpslimitado = round(mps, 2)\n",
        "print(\"O resultado é: \",mpslimitado)"
      ],
      "metadata": {
        "colab": {
          "base_uri": "https://localhost:8080/"
        },
        "id": "m5TB2yO9WbLf",
        "outputId": "f1baf1d0-62ff-427e-afea-f1450f29ab8d"
      },
      "execution_count": null,
      "outputs": [
        {
          "output_type": "stream",
          "name": "stdout",
          "text": [
            "Digite a quantidade de horas: 1\n",
            "Digite a quantidade de minutos: 32\n",
            "O resultado é:  1.53\n"
          ]
        }
      ]
    },
    {
      "cell_type": "markdown",
      "source": [
        "## Exercício 8"
      ],
      "metadata": {
        "id": "c8s1WbbOZ_j8"
      }
    },
    {
      "cell_type": "code",
      "source": [
        "horas = float(input(\"Digite a quantidade de horas trabalhadas: \"))\n",
        "minutos = float(input(\"Digite a quantidade de minutos trabalhados: \"))\n",
        "reaisahora = float(input(\"Digite o quanto você recebe por hora trabalhada: \"))\n",
        "mps = minutos / 60 + horas\n",
        "mpslimitado = round(mps, 2)\n",
        "total = (mpslimitado*reaisahora) * 1.7\n",
        "totallimitado = round(total, 2)\n",
        "print(\"Seu salário será de: \",totallimitado,\"reais\")\n",
        "## A função \"round\" arredondou o valor de 669.375 para 669.38"
      ],
      "metadata": {
        "colab": {
          "base_uri": "https://localhost:8080/"
        },
        "id": "9QkSBcssaC5N",
        "outputId": "c818d1bc-a8d1-4383-b41e-1ac17d3649d9"
      },
      "execution_count": 9,
      "outputs": [
        {
          "output_type": "stream",
          "name": "stdout",
          "text": [
            "Digite a quantidade de horas trabalhadas: 20\n",
            "Digite a quantidade de minutos trabalhados: 30\n",
            "Digite o quanto você recebe por hora trabalhada: 20\n",
            "Seu salário será de:  697.0\n"
          ]
        }
      ]
    },
    {
      "cell_type": "markdown",
      "source": [
        "## Exercício 9"
      ],
      "metadata": {
        "id": "ufYpPtqPhAdk"
      }
    },
    {
      "cell_type": "code",
      "source": [
        "km = float(input(\"Digite a quantidade de km a serem percorridos: \"))\n",
        "consumogas = float(input(\"Digite a quantidade de km que seu carro percorre por litro de gasolina: \"))\n",
        "precogas = float(input(\"Digite o preço, em média, da gasolina: \"))\n",
        "gastoida = (km/consumogas) * precogas\n",
        "gastototal = gastoida * 2\n",
        "print(\"O valor gasto na ida será de: \",gastoida,\"reais\")\n",
        "print(\"O valor gasto na ida e na volta será de: \",gastototal,\"reais\")"
      ],
      "metadata": {
        "colab": {
          "base_uri": "https://localhost:8080/"
        },
        "id": "wGtLsKSWhDjR",
        "outputId": "f48a9981-3a3b-4e96-d937-102a22733d66"
      },
      "execution_count": 10,
      "outputs": [
        {
          "output_type": "stream",
          "name": "stdout",
          "text": [
            "Digite a quantidade de km a serem percorridos: 450\n",
            "Digite a quantidade de km que seu carro percorre por litro de gasolina: 10\n",
            "Digite o preço, em média, da gasolina: 4.5\n",
            "O valor gasto na ida será de:  202.5 reais\n",
            "O valor gasto na ida e na volta será de:  405.0 reais\n"
          ]
        }
      ]
    },
    {
      "cell_type": "markdown",
      "source": [
        "## Exercício 10"
      ],
      "metadata": {
        "id": "gRjclISHifMm"
      }
    },
    {
      "cell_type": "code",
      "source": [
        "km = float(input(\"Digite a quantidade de km percorridos: \"))\n",
        "qtdehoras = float(input(\"Digite a quantidade de horas gastas no percurso: \"))\n",
        "qtdeminutos = float(input(\"Digite a quantidade de minutos gastos no percurso: \"))\n",
        "tempototal = qtdehoras + (qtdeminutos/60)\n",
        "vm = km/tempototal\n",
        "print(\"A velocidade média do percurso foi de: \",round(vm, 2),\"Km/h\")\n",
        "## A velocidade máxima permitida dessa estrada é de 110 km/h"
      ],
      "metadata": {
        "id": "-TcTHRLHiio2",
        "colab": {
          "base_uri": "https://localhost:8080/"
        },
        "outputId": "6ed2a885-5478-4dc7-fae3-25b5c10bde15"
      },
      "execution_count": 8,
      "outputs": [
        {
          "output_type": "stream",
          "name": "stdout",
          "text": [
            "Digite a quantidade de km percorridos: 150\n",
            "Digite a quantidade de horas gastas no percurso: 1\n",
            "Digite a quantidade de minutos gastos no percurso: 13\n",
            "A velocidade média do percurso foi de:  123.29 Km/h\n"
          ]
        }
      ]
    },
    {
      "cell_type": "code",
      "source": [],
      "metadata": {
        "id": "IjiEG4PUOF0W"
      },
      "execution_count": null,
      "outputs": []
    }
  ]
}